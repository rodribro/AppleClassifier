{
 "cells": [
  {
   "cell_type": "markdown",
   "metadata": {},
   "source": [
    "### <b> Apple Classifier </b> \n",
    "\n",
    "This notebook is a Deep Learning project  to train and deploy an image classifier using FastAI's API."
   ]
  },
  {
   "cell_type": "code",
   "execution_count": 1,
   "metadata": {},
   "outputs": [],
   "source": [
    "from fastbook import *\n",
    "from fastai.vision.widgets import *"
   ]
  },
  {
   "cell_type": "markdown",
   "metadata": {},
   "source": [
    "##### 1. Gathering Data from the web"
   ]
  },
  {
   "cell_type": "code",
   "execution_count": 2,
   "metadata": {},
   "outputs": [],
   "source": [
    "apple_types = ['red', 'green', 'logo']\n",
    "path = Path('apple')"
   ]
  },
  {
   "cell_type": "code",
   "execution_count": null,
   "metadata": {},
   "outputs": [],
   "source": [
    "# Search for and download images\n",
    "for a in apple_types:\n",
    "    dest = (path/a)\n",
    "    results = search_images_ddg(f'{a} apple images')\n",
    "    for i in range(len(results)):\n",
    "        try:\n",
    "            download_url(results[i], dest / f'{i}.jpg')\n",
    "        except Exception as e:\n",
    "            print(f\"Error downloading {results[i]}: {e}\")"
   ]
  },
  {
   "cell_type": "code",
   "execution_count": 4,
   "metadata": {},
   "outputs": [
    {
     "data": {
      "text/plain": [
       "(#580) [Path('apple/green/0.jpg'),Path('apple/green/1.jpg'),Path('apple/green/10.jpg'),Path('apple/green/100.jpg'),Path('apple/green/101.jpg'),Path('apple/green/102.jpg'),Path('apple/green/103.jpg'),Path('apple/green/104.jpg'),Path('apple/green/105.jpg'),Path('apple/green/106.jpg')...]"
      ]
     },
     "execution_count": 4,
     "metadata": {},
     "output_type": "execute_result"
    }
   ],
   "source": [
    "#Check download images to designated path\n",
    "images = get_image_files(path)\n",
    "images"
   ]
  },
  {
   "cell_type": "code",
   "execution_count": 8,
   "metadata": {},
   "outputs": [
    {
     "data": {
      "text/plain": [
       "(#25) [Path('apple/green/108.jpg'),Path('apple/green/117.jpg'),Path('apple/green/133.jpg'),Path('apple/green/174.jpg'),Path('apple/green/197.jpg'),Path('apple/green/199.jpg'),Path('apple/green/38.jpg'),Path('apple/green/51.jpg'),Path('apple/logo/104.jpg'),Path('apple/logo/11.jpg')...]"
      ]
     },
     "execution_count": 8,
     "metadata": {},
     "output_type": "execute_result"
    }
   ],
   "source": [
    "# Check for corrupt images\n",
    "failed = verify_images(images)\n",
    "failed"
   ]
  },
  {
   "cell_type": "code",
   "execution_count": 9,
   "metadata": {},
   "outputs": [
    {
     "data": {
      "text/plain": [
       "(#25) [None,None,None,None,None,None,None,None,None,None...]"
      ]
     },
     "execution_count": 9,
     "metadata": {},
     "output_type": "execute_result"
    }
   ],
   "source": [
    "#Remove corrupt images\n",
    "failed.map(Path.unlink)"
   ]
  },
  {
   "cell_type": "code",
   "execution_count": null,
   "metadata": {},
   "outputs": [],
   "source": []
  }
 ],
 "metadata": {
  "kernelspec": {
   "display_name": "torchEnv",
   "language": "python",
   "name": "python3"
  },
  "language_info": {
   "codemirror_mode": {
    "name": "ipython",
    "version": 3
   },
   "file_extension": ".py",
   "mimetype": "text/x-python",
   "name": "python",
   "nbconvert_exporter": "python",
   "pygments_lexer": "ipython3",
   "version": "3.11.5"
  }
 },
 "nbformat": 4,
 "nbformat_minor": 2
}
